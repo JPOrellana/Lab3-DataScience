{
 "cells": [
  {
   "cell_type": "markdown",
   "metadata": {},
   "source": [
    "# Data Science - Laboratorio 3\n",
    "## Modelos Long-Short Term Memory (LSTM)\n",
    "- - -\n",
    "### Integrantes:\n",
    "- Diego Alberto Leiva 21752\n",
    "- José Pablo Orellana 21970\n",
    "- - -"
   ]
  },
  {
   "cell_type": "markdown",
   "metadata": {},
   "source": [
    "### Librerias"
   ]
  },
  {
   "cell_type": "code",
   "execution_count": 1,
   "metadata": {},
   "outputs": [],
   "source": [
    "# Manejo de archivos\n",
    "import os \n",
    "\n",
    "# Manipulación de datos\n",
    "import pandas as pd\n",
    "import numpy as np\n",
    "import random\n",
    "from datetime import datetime\n",
    "\n",
    "# Visualización\n",
    "import matplotlib.pyplot as plt\n",
    "import matplotlib.cm as cm\n",
    "from statsmodels.graphics.tsaplots import plot_acf, plot_pacf\n",
    "\n",
    "# Estadística y series temporales ARIMA\n",
    "import statsmodels.tsa as tsa\n",
    "import statsmodels.api as sm\n",
    "from statsmodels.tsa.stattools import adfuller, kpss\n",
    "from statsmodels.tsa.seasonal import seasonal_decompose\n",
    "from statsmodels.tsa.stattools import acf, pacf\n",
    "from statsmodels.tsa.arima_model import ARIMA\n",
    "from statsmodels.tsa.statespace.sarimax import SARIMAX\n",
    "import pmdarima as pm\n",
    "\n",
    "# Métricas\n",
    "from sklearn.metrics import mean_squared_error, accuracy_score\n",
    "\n",
    "# PyTorch\n",
    "import torch\n",
    "import torch.nn as nn\n",
    "import torch.optim as optim\n",
    "from torch.utils.data import Dataset, DataLoader\n",
    "\n",
    "# Scikit-learn\n",
    "from sklearn.preprocessing import StandardScaler\n",
    "\n",
    "# advertencias\n",
    "import warnings\n",
    "warnings.filterwarnings('ignore')"
   ]
  },
  {
   "cell_type": "markdown",
   "metadata": {},
   "source": [
    "### Carga de Datasets"
   ]
  },
  {
   "cell_type": "code",
   "execution_count": 2,
   "metadata": {},
   "outputs": [
    {
     "name": "stdout",
     "output_type": "stream",
     "text": [
      "Se cargaron un total de 3 archivos\n",
      "\n",
      "Archivos cargados:\n",
      "\t- consumos_combustibles\n",
      "\t- importaciones_combustibles\n",
      "\t- precios_combustibles\n"
     ]
    }
   ],
   "source": [
    "# Ruta de la carpeta con los archivos\n",
    "folder_path = 'data'\n",
    "\n",
    "# Obtener los nombres de los archivos\n",
    "file_names = [file for file in os.listdir(folder_path) if file.endswith('.csv') and not file.startswith('~')]\n",
    "\n",
    "# Diccionario para almacenar los dataframes\n",
    "data_frames = {}\n",
    "\n",
    "# Iterar sobre los nombres de los archivos\n",
    "for file in file_names:\n",
    "    # Construir la ruta del archivo\n",
    "    file_path = os.path.join(folder_path, file)\n",
    "    file_name = file.split('.')[0]\n",
    "    \n",
    "    # Leer el archivo csv y almacenarlo en un dataframe\n",
    "    df = pd.read_csv(file_path, sep=';', encoding='utf-8')\n",
    "    \n",
    "    # Guardar el dataframe en el diccionario con el nombre del archivo como clave\n",
    "    data_frames[file_name] = df\n",
    "\n",
    "# Mostrar los nombres de los archivos\n",
    "print(f\"Se cargaron un total de {len(data_frames)} archivos\\n\")\n",
    "print('Archivos cargados:')\n",
    "for key in data_frames.keys():\n",
    "    print(f\"\\t- {key}\")"
   ]
  },
  {
   "cell_type": "code",
   "execution_count": 3,
   "metadata": {},
   "outputs": [],
   "source": [
    "# cargar cada dataset como su propio dataframe\n",
    "consumos = data_frames['consumos_combustibles']\n",
    "importaciones = data_frames['importaciones_combustibles']\n",
    "precios = data_frames['precios_combustibles']"
   ]
  },
  {
   "cell_type": "markdown",
   "metadata": {},
   "source": [
    "## Preprocesamiento"
   ]
  },
  {
   "cell_type": "markdown",
   "metadata": {},
   "source": [
    "### Seleccion de Variables"
   ]
  },
  {
   "cell_type": "markdown",
   "metadata": {},
   "source": [
    "Solo se tomarán en cuenta los datos de importación, consumo y precios de los siguientes tipos de combustibles:\n",
    "- `Gasolina Súper`\n",
    "- `Gasolina Regular`\n",
    "- `Diesel` -> combinacion de Diesel alto azufre y bajo azufre\n",
    "- `Gas Propano`"
   ]
  },
  {
   "cell_type": "code",
   "execution_count": 4,
   "metadata": {},
   "outputs": [],
   "source": [
    "# Seleccionar las columnas de interés para consumos e importaciones\n",
    "cols = ['Fecha','Gasolina regular', 'Gasolina superior', 'Diesel alto azufre', 'Diesel bajo azufre', 'Gas licuado de petróleo']\n",
    "\n",
    "# Filtrar columnas en 'consumo_combustibles'\n",
    "consumos = consumos[cols].copy()\n",
    "\n",
    "# Filtrar columnas en 'importacion_combustibles'\n",
    "importaciones = importaciones[cols].copy()\n",
    "\n",
    "# Filtrar columnas en 'precios_combustibles'\n",
    "precios_cols = ['FECHA','Superior GTQ/GALON', 'Regular GTQ/GALON', 'Diesel GTQ/GALON', 'Glp Cilindro 25Lbs GTQ/LB']\n",
    "precios = precios[precios_cols].copy()"
   ]
  },
  {
   "cell_type": "markdown",
   "metadata": {},
   "source": [
    "### Verificacion y manejo de Nulos"
   ]
  },
  {
   "cell_type": "markdown",
   "metadata": {},
   "source": [
    "En el laboratorio anterior se encontro que Ceras y tipo cambio eran las variables con nulos. Dado que ahora se seleccionaron las variables de interes antes, es probable que ya no existan nulos."
   ]
  },
  {
   "cell_type": "code",
   "execution_count": 5,
   "metadata": {},
   "outputs": [
    {
     "name": "stdout",
     "output_type": "stream",
     "text": [
      "Valores nulos en el dataset de consumo de combustibles: 0\n",
      "Valores nulos en el dataset de importación de combustibles: 0\n",
      "Valores nulos en el dataset de precios de combustibles: 0\n"
     ]
    }
   ],
   "source": [
    "# Comprobar si hay valores nulos\n",
    "print(\"Valores nulos en el dataset de consumo de combustibles:\", consumos.isnull().sum().sum())\n",
    "print(\"Valores nulos en el dataset de importación de combustibles:\", importaciones.isnull().sum().sum())\n",
    "print(\"Valores nulos en el dataset de precios de combustibles:\", precios.isnull().sum().sum())"
   ]
  },
  {
   "cell_type": "markdown",
   "metadata": {},
   "source": [
    "### Manejo de Fechas"
   ]
  },
  {
   "cell_type": "markdown",
   "metadata": {},
   "source": [
    "Anterormente se encontro que los 3 datasets contienen una unica variable culitativa la cual es `Fecha`. Esta se encuentra como string por lo que se debe de transformar a datetime"
   ]
  },
  {
   "cell_type": "code",
   "execution_count": 6,
   "metadata": {},
   "outputs": [
    {
     "data": {
      "text/plain": [
       "'D'"
      ]
     },
     "execution_count": 6,
     "metadata": {},
     "output_type": "execute_result"
    }
   ],
   "source": [
    "# Diccionario de meses en español a inglés\n",
    "month_mapping = {\n",
    "    'ene': 'Jan',\n",
    "    'feb': 'Feb',\n",
    "    'mar': 'Mar',\n",
    "    'abr': 'Apr',\n",
    "    'may': 'May',\n",
    "    'jun': 'Jun',\n",
    "    'jul': 'Jul',\n",
    "    'ago': 'Aug',\n",
    "    'sep': 'Sep',\n",
    "    'oct': 'Oct',\n",
    "    'nov': 'Nov',\n",
    "    'dic': 'Dec'\n",
    "}\n",
    "\n",
    "# Función para reemplazar los nombres de los meses\n",
    "def replace_months(date_str):\n",
    "    for esp, eng in month_mapping.items():\n",
    "        date_str = date_str.replace(esp, eng)\n",
    "    return date_str\n",
    "\n",
    "# Por fines practicos, se renombra la columna  'FECHA' a 'Fecha' en el dataset de precios de combustibles\n",
    "precios.rename(columns={'FECHA': 'Fecha'}, inplace=True)\n",
    "\n",
    "# Aplicar la función a las columnas de fecha de los dataframes\n",
    "consumos['Fecha'] = consumos['Fecha'].apply(replace_months)\n",
    "importaciones['Fecha'] = importaciones['Fecha'].apply(replace_months)\n",
    "precios['Fecha'] = precios['Fecha'].apply(replace_months)\n",
    "\n",
    "# Convertir las columnas de fecha a datetime\n",
    "consumos['Fecha'] = pd.to_datetime(consumos['Fecha'], format='%b/%Y')\n",
    "importaciones['Fecha'] = pd.to_datetime(importaciones['Fecha'], format='%b/%Y')\n",
    "precios['Fecha'] = pd.to_datetime(precios['Fecha'], format='%d/%b/%Y')\n",
    "\n",
    "# Establecer la columna 'Fecha' como índice en los tres dataframes\n",
    "consumos.set_index('Fecha', inplace=True)\n",
    "importaciones.set_index('Fecha', inplace=True)\n",
    "precios.set_index('Fecha', inplace=True)\n",
    "\n",
    "# Converir los indices a datetime\n",
    "consumos.index = pd.to_datetime(consumos.index)\n",
    "importaciones.index = pd.to_datetime(importaciones.index)\n",
    "precios.index = pd.to_datetime(precios.index)\n",
    "\n",
    "# Ordenar los índices\n",
    "consumos.sort_index(inplace=True)\n",
    "importaciones.sort_index(inplace=True)\n",
    "precios.sort_index(inplace=True)\n",
    "\n",
    "# Inferir la frecuencia de los índices\n",
    "pd.infer_freq(consumos.index)\n",
    "pd.infer_freq(importaciones.index)\n",
    "pd.infer_freq(precios.index)\n"
   ]
  },
  {
   "cell_type": "markdown",
   "metadata": {},
   "source": [
    "### Manejo de variables Diesel"
   ]
  },
  {
   "cell_type": "markdown",
   "metadata": {},
   "source": [
    "Es necesario combinar ambas variables de diesel en una unica variable donde las fechas de antes del 2018 se tomaran para el diesel alto en azufre, posterior a 2018 se tomaran las de diesel alto en azufre."
   ]
  },
  {
   "cell_type": "code",
   "execution_count": 7,
   "metadata": {},
   "outputs": [],
   "source": [
    "def combine_diesel(df, high_sulfur_col, low_sulfur_col, combined_col):\n",
    "    \"\"\"\n",
    "    Función que combina las columnas de Diesel de alto y bajo azufre en una sola columna.\n",
    "    Toma los valores de Diesel de alto azufre hasta 2017 y los de Diesel de bajo azufre a partir de 2018.\n",
    "\n",
    "    Args:\n",
    "        df (pandas.DataFrame): El dataframe de entrada.\n",
    "        high_sulfur_col (str): El nombre de la columna de Diesel de alto azufre.\n",
    "        low_sulfur_col (str): El nombre de la columna de Diesel de bajo azufre.\n",
    "        combined_col (str): El nombre de la nueva columna combinada.\n",
    "    \n",
    "    Returns:\n",
    "        data (pandas.DataFrame): El dataframe de entrada con la nueva columna combinada.\n",
    "    \"\"\"\n",
    "    # Crear una copia del dataframe\n",
    "    data = df.copy()\n",
    "\n",
    "    # Crear una nueva columna con los valores de Diesel de alto azufre\n",
    "    data.loc[data.index < '2018-01-01', combined_col] = data[high_sulfur_col]\n",
    "    data.loc[data.index >= '2018-01-01', combined_col] = data[low_sulfur_col]\n",
    "\n",
    "    # Eliminar las columnas originales\n",
    "    data.drop(columns=[high_sulfur_col, low_sulfur_col], inplace=True)\n",
    "\n",
    "    return data"
   ]
  },
  {
   "cell_type": "code",
   "execution_count": 8,
   "metadata": {},
   "outputs": [],
   "source": [
    "# Combina las columnas de Diesel de alto y bajo azufre en una sola columna\n",
    "consumos = combine_diesel(consumos, 'Diesel alto azufre', 'Diesel bajo azufre', 'Diesel')\n",
    "importaciones = combine_diesel(importaciones, 'Diesel alto azufre', 'Diesel bajo azufre', 'Diesel')"
   ]
  },
  {
   "cell_type": "markdown",
   "metadata": {},
   "source": [
    "### Renombrar Variables"
   ]
  },
  {
   "cell_type": "markdown",
   "metadata": {},
   "source": [
    "Por fines practicos se renombraran las variables"
   ]
  },
  {
   "cell_type": "code",
   "execution_count": 9,
   "metadata": {},
   "outputs": [],
   "source": [
    "precios.rename(columns={\n",
    "    'Superior GTQ/GALON': 'Gasolina Superior',\n",
    "    'Regular GTQ/GALON': 'Gasolina Regular',\n",
    "    'Diesel GTQ/GALON': 'Diesel',\n",
    "    'Glp Cilindro 25Lbs GTQ/LB': 'Gas Propano'\n",
    "}, inplace=True)\n",
    "\n",
    "# Renombrar columnas en 'consumo_combustibles'\n",
    "consumos.rename(columns={\n",
    "    'Gasolina regular': 'Gasolina Regular',\n",
    "    'Gasolina superior': 'Gasolina Superior',\n",
    "    'Gas licuado de petróleo': 'Gas Propano'\n",
    "}, inplace=True)\n",
    "\n",
    "# Renombrar columnas en 'importacion_combustibles'\n",
    "importaciones.rename(columns={\n",
    "    'Gasolina regular': 'Gasolina Regular',\n",
    "    'Gasolina superior': 'Gasolina Superior',\n",
    "    'Gas licuado de petróleo': 'Gas Propano'\n",
    "}, inplace=True)"
   ]
  },
  {
   "cell_type": "markdown",
   "metadata": {},
   "source": [
    "## Modelos LSTM"
   ]
  },
  {
   "cell_type": "markdown",
   "metadata": {},
   "source": [
    "### Configuracion de PyTorch con CUDA"
   ]
  },
  {
   "cell_type": "code",
   "execution_count": 10,
   "metadata": {},
   "outputs": [
    {
     "name": "stdout",
     "output_type": "stream",
     "text": [
      "Using CUDA\n"
     ]
    }
   ],
   "source": [
    "seed = 42\n",
    "\n",
    "random.seed(seed)\n",
    "np.random.seed(seed)\n",
    "torch.manual_seed(seed)\n",
    "if torch.cuda.is_available():\n",
    "    torch.cuda.manual_seed(seed)\n",
    "    torch.cuda.manual_seed_all(seed)  # Multi-GPU.\n",
    "    print(\"Using CUDA\")\n",
    "torch.backends.cudnn.deterministic = True\n",
    "torch.backends.cudnn.benchmark = False"
   ]
  },
  {
   "cell_type": "markdown",
   "metadata": {},
   "source": [
    "### Transformación de Series"
   ]
  },
  {
   "cell_type": "markdown",
   "metadata": {},
   "source": [
    "Como se encontro anteriormente las series de tiempo tienen una tendencia al alza y tienen patrones periodicos por lo tanto se necesita transformar la data para eliminar esta tendencia y tener series de tiempo estacionarias."
   ]
  },
  {
   "cell_type": "code",
   "execution_count": 11,
   "metadata": {},
   "outputs": [],
   "source": [
    "consumos_log = np.log(consumos)\n",
    "consumos_diff = consumos_log.diff().dropna()"
   ]
  },
  {
   "cell_type": "markdown",
   "metadata": {},
   "source": [
    "### Division de datos"
   ]
  },
  {
   "cell_type": "code",
   "execution_count": 12,
   "metadata": {},
   "outputs": [],
   "source": [
    "test_size = 36\n",
    "data = consumos_diff['Gasolina Regular'].values.astype(float)\n",
    "train_data = data[:-test_size]\n",
    "test_data = data[-test_size:]"
   ]
  },
  {
   "cell_type": "markdown",
   "metadata": {},
   "source": [
    "### Normalización de Series"
   ]
  },
  {
   "cell_type": "code",
   "execution_count": 13,
   "metadata": {},
   "outputs": [],
   "source": [
    "scaler = StandardScaler()\n",
    "train_data_normalized = scaler.fit_transform(train_data.reshape(-1, 1))"
   ]
  },
  {
   "cell_type": "markdown",
   "metadata": {},
   "source": [
    "### Tensores"
   ]
  },
  {
   "cell_type": "code",
   "execution_count": 14,
   "metadata": {},
   "outputs": [],
   "source": [
    "train_data_normalized = torch.FloatTensor(train_data_normalized).view(-1)"
   ]
  },
  {
   "cell_type": "code",
   "execution_count": 15,
   "metadata": {},
   "outputs": [],
   "source": [
    "train_window = 12"
   ]
  },
  {
   "cell_type": "code",
   "execution_count": 16,
   "metadata": {},
   "outputs": [],
   "source": [
    "def create_inout_sequences(input_data, tw):\n",
    "    inout_seq = []\n",
    "    L = len(input_data)\n",
    "    for i in range(L-tw):\n",
    "        train_seq = input_data[i:i+tw]\n",
    "        train_label = input_data[i+tw:i+tw+1]\n",
    "        inout_seq.append((train_seq ,train_label))\n",
    "    return inout_seq"
   ]
  },
  {
   "cell_type": "code",
   "execution_count": 17,
   "metadata": {},
   "outputs": [],
   "source": [
    "train_inout_seq = create_inout_sequences(train_data_normalized, train_window)"
   ]
  },
  {
   "cell_type": "markdown",
   "metadata": {},
   "source": [
    "### Arquitectura LSTM"
   ]
  },
  {
   "cell_type": "code",
   "execution_count": 18,
   "metadata": {},
   "outputs": [],
   "source": [
    "class LSTM(nn.Module):\n",
    "    def __init__(self, input_size=1, hidden_layer_size=100, output_size=1):\n",
    "        super().__init__()\n",
    "        self.hidden_layer_size = hidden_layer_size\n",
    "\n",
    "        self.lstm = nn.LSTM(input_size, hidden_layer_size)\n",
    "\n",
    "        self.linear = nn.Linear(hidden_layer_size, output_size)\n",
    "\n",
    "        self.hidden_cell = (torch.zeros(1,1,self.hidden_layer_size),\n",
    "                            torch.zeros(1,1,self.hidden_layer_size))\n",
    "\n",
    "    def forward(self, input_seq):\n",
    "        lstm_out, self.hidden_cell = self.lstm(input_seq.view(len(input_seq) ,1, -1), self.hidden_cell)\n",
    "        predictions = self.linear(lstm_out.view(len(input_seq), -1))\n",
    "        return predictions[-1]"
   ]
  },
  {
   "cell_type": "code",
   "execution_count": 19,
   "metadata": {},
   "outputs": [],
   "source": [
    "def predict(model, test_loader):\n",
    "    model.eval()\n",
    "    predictions = []\n",
    "    with torch.no_grad():\n",
    "        for seq, _ in test_loader:\n",
    "            seq = seq.unsqueeze(-1)  # Add feature dimension\n",
    "            pred = model(seq)\n",
    "            predictions.append(pred.squeeze().numpy())\n",
    "    return np.concatenate(predictions)\n"
   ]
  },
  {
   "cell_type": "code",
   "execution_count": 20,
   "metadata": {},
   "outputs": [
    {
     "name": "stdout",
     "output_type": "stream",
     "text": [
      "LSTM(\n",
      "  (lstm): LSTM(1, 100)\n",
      "  (linear): Linear(in_features=100, out_features=1, bias=True)\n",
      ")\n"
     ]
    }
   ],
   "source": [
    "model = LSTM()\n",
    "loss_function = nn.MSELoss()\n",
    "optimizer = torch.optim.Adam(model.parameters(), lr=0.001)\n",
    "\n",
    "print(model)"
   ]
  },
  {
   "cell_type": "markdown",
   "metadata": {},
   "source": [
    "### Entrenamiento"
   ]
  },
  {
   "cell_type": "code",
   "execution_count": 21,
   "metadata": {},
   "outputs": [
    {
     "name": "stdout",
     "output_type": "stream",
     "text": [
      "epoch:   1 loss: 0.00138944\n",
      "epoch:  26 loss: 0.00276129\n",
      "epoch:  51 loss: 0.00119639\n",
      "epoch:  76 loss: 0.00012471\n",
      "epoch: 101 loss: 0.00356712\n",
      "epoch: 126 loss: 0.00372865\n",
      "epoch: 149 loss: 0.0091887815\n"
     ]
    }
   ],
   "source": [
    "epochs = 150\n",
    "\n",
    "for i in range(epochs):\n",
    "    for seq, labels in train_inout_seq:\n",
    "        optimizer.zero_grad()\n",
    "        model.hidden_cell = (torch.zeros(1, 1, model.hidden_layer_size),\n",
    "                        torch.zeros(1, 1, model.hidden_layer_size))\n",
    "\n",
    "        y_pred = model(seq)\n",
    "\n",
    "        single_loss = loss_function(y_pred, labels)\n",
    "        single_loss.backward()\n",
    "        optimizer.step()\n",
    "\n",
    "    if i%25 == 1:\n",
    "        print(f'epoch: {i:3} loss: {single_loss.item():10.8f}')\n",
    "\n",
    "print(f'epoch: {i:3} loss: {single_loss.item():10.10f}')"
   ]
  },
  {
   "cell_type": "markdown",
   "metadata": {},
   "source": [
    "### Predicciones"
   ]
  },
  {
   "cell_type": "code",
   "execution_count": 22,
   "metadata": {},
   "outputs": [
    {
     "name": "stdout",
     "output_type": "stream",
     "text": [
      "[0.7087271213531494, 0.8651362657546997, 1.2593110799789429, 0.16730020940303802, 0.22682733833789825, -0.4589235186576843, 1.5608913898468018, -1.1659209728240967, -0.2904288172721863, 1.379123330116272, -1.1981450319290161, 0.2197936773300171]\n"
     ]
    }
   ],
   "source": [
    "fut_pred = 12\n",
    "\n",
    "test_inputs = train_data_normalized[-train_window:].tolist()\n",
    "print(test_inputs)"
   ]
  },
  {
   "cell_type": "code",
   "execution_count": 23,
   "metadata": {},
   "outputs": [],
   "source": [
    "model.eval()\n",
    "\n",
    "for i in range(fut_pred):\n",
    "    seq = torch.FloatTensor(test_inputs[-train_window:])\n",
    "    with torch.no_grad():\n",
    "        model.hidden = (torch.zeros(1, 1, model.hidden_layer_size),\n",
    "                        torch.zeros(1, 1, model.hidden_layer_size))\n",
    "        test_inputs.append(model(seq).item())"
   ]
  },
  {
   "cell_type": "code",
   "execution_count": 24,
   "metadata": {},
   "outputs": [],
   "source": [
    "actual_predictions = scaler.inverse_transform(np.array(test_inputs[train_window:] ).reshape(-1, 1))"
   ]
  },
  {
   "cell_type": "code",
   "execution_count": null,
   "metadata": {},
   "outputs": [],
   "source": [
    "import numpy as np\n",
    "import matplotlib.pyplot as plt\n",
    "import torch\n",
    "import torch.nn as nn\n",
    "from sklearn.preprocessing import StandardScaler\n",
    "\n",
    "# Assuming consumos_diff['Gasolina Regular'] is your series of interest\n",
    "test_size = 36\n",
    "data = consumos_diff['Gasolina Regular'].values.astype(float)\n",
    "train_data = data[:-test_size]\n",
    "test_data = data[-test_size:]\n",
    "\n",
    "scaler = StandardScaler()\n",
    "train_data_normalized = scaler.fit_transform(train_data.reshape(-1, 1))\n",
    "test_data_normalized = scaler.transform(test_data.reshape(-1, 1))\n",
    "\n",
    "train_data_normalized = torch.FloatTensor(train_data_normalized).view(-1)\n",
    "test_data_normalized = torch.FloatTensor(test_data_normalized).view(-1)\n",
    "train_window = 12\n",
    "\n",
    "def create_inout_sequences(input_data, tw):\n",
    "    inout_seq = []\n",
    "    L = len(input_data)\n",
    "    for i in range(L-tw):\n",
    "        train_seq = input_data[i:i+tw]\n",
    "        train_label = input_data[i+tw:i+tw+1]\n",
    "        inout_seq.append((train_seq ,train_label))\n",
    "    return inout_seq\n",
    "\n",
    "train_inout_seq = create_inout_sequences(train_data_normalized, train_window)\n",
    "\n",
    "class LSTM(nn.Module):\n",
    "    def __init__(self, input_size=1, hidden_layer_size=100, output_size=1):\n",
    "        super().__init__()\n",
    "        self.hidden_layer_size = hidden_layer_size\n",
    "        self.lstm = nn.LSTM(input_size, hidden_layer_size)\n",
    "        self.linear = nn.Linear(hidden_layer_size, output_size)\n",
    "        self.hidden_cell = (torch.zeros(1,1,self.hidden_layer_size),\n",
    "                            torch.zeros(1,1,self.hidden_layer_size))\n",
    "\n",
    "    def forward(self, input_seq):\n",
    "        lstm_out, self.hidden_cell = self.lstm(input_seq.view(len(input_seq) ,1, -1), self.hidden_cell)\n",
    "        predictions = self.linear(lstm_out.view(len(input_seq), -1))\n",
    "        return predictions[-1]\n",
    "\n",
    "def predict(model, test_data, train_window):\n",
    "    model.eval()\n",
    "    predictions = []\n",
    "    test_inputs = torch.FloatTensor(test_data[:train_window])\n",
    "    with torch.no_grad():\n",
    "        for i in range(len(test_data) - train_window):\n",
    "            seq = test_inputs[-train_window:].view(-1)\n",
    "            test_inputs = torch.cat((test_inputs, model(seq).view(1)))\n",
    "            predictions.append(test_inputs[-1].item())\n",
    "    return predictions\n",
    "\n",
    "model = LSTM()\n",
    "loss_function = nn.MSELoss()\n",
    "optimizer = torch.optim.Adam(model.parameters(), lr=0.001)\n",
    "\n",
    "# Training loop\n",
    "epochs = 150\n",
    "for i in range(epochs):\n",
    "    for seq, labels in train_inout_seq:\n",
    "        optimizer.zero_grad()\n",
    "        model.hidden_cell = (torch.zeros(1, 1, model.hidden_layer_size),\n",
    "                             torch.zeros(1, 1, model.hidden_layer_size))\n",
    "        y_pred = model(seq)\n",
    "        single_loss = loss_function(y_pred, labels)\n",
    "        single_loss.backward()\n",
    "        optimizer.step()\n",
    "    if i%25 == 1:\n",
    "        print(f'epoch: {i:3} loss: {single_loss.item():10.8f}')\n",
    "\n",
    "print(f'epoch: {i:3} loss: {single_loss.item():10.10f}')"
   ]
  },
  {
   "cell_type": "code",
   "execution_count": 26,
   "metadata": {},
   "outputs": [
    {
     "data": {
      "image/png": "[encoded data removed]",
      "text/plain": [
       "<Figure size 1200x600 with 1 Axes>"
      ]
     },
     "metadata": {},
     "output_type": "display_data"
    }
   ],
   "source": [
    "# Calcula predicciones\n",
    "predicted_values = predict(model, train_data_normalized.tolist() + test_data_normalized.tolist(), train_window)\n",
    "\n",
    "# Inversa de la transformación\n",
    "predicted_values = scaler.inverse_transform(np.array(predicted_values).reshape(-1, 1))\n",
    "test_data_actual = scaler.inverse_transform(test_data_normalized.reshape(-1, 1))\n",
    "\n",
    "# Ajusta el rango x para las predicciones\n",
    "predicted_range = range(len(train_data) + train_window, len(train_data) + train_window + len(predicted_values))\n",
    "\n",
    "# Plot resultados\n",
    "plt.figure(figsize=(12,6))\n",
    "plt.plot(range(len(data)), scaler.inverse_transform(data.reshape(-1, 1)), label='Actual Data')\n",
    "plt.plot(range(len(train_data), len(data)), test_data_actual, label='Real Test Data')\n",
    "plt.plot(predicted_range, predicted_values, label='Predicted Data', color='red')\n",
    "plt.legend()\n",
    "plt.xlabel('Time')\n",
    "plt.ylabel('Gasolina Regular')\n",
    "plt.title('Real Test Values vs Predicted Values')\n",
    "plt.show()"
   ]
  }
 ],
 "metadata": {
  "kernelspec": {
   "display_name": "venv",
   "language": "python",
   "name": "python3"
  },
  "language_info": {
   "codemirror_mode": {
    "name": "ipython",
    "version": 3
   },
   "file_extension": ".py",
   "mimetype": "text/x-python",
   "name": "python",
   "nbconvert_exporter": "python",
   "pygments_lexer": "ipython3",
   "version": "3.11.6"
  }
 },
 "nbformat": 4,
 "nbformat_minor": 2
}
