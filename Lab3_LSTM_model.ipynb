{
 "cells": [
  {
   "cell_type": "markdown",
   "metadata": {},
   "source": [
    "# Data Science - Laboratorio 3\n",
    "## Modelos Long-Short Term Memory (LSTM)\n",
    "- - -\n",
    "### Integrantes:\n",
    "- Diego Alberto Leiva 21752\n",
    "- José Pablo Orellana 21970\n",
    "- - -"
   ]
  },
  {
   "cell_type": "markdown",
   "metadata": {},
   "source": [
    "### Librerias"
   ]
  },
  {
   "cell_type": "code",
   "execution_count": 1,
   "metadata": {},
   "outputs": [],
   "source": [
    "# Manipulacion de Datos\n",
    "import pandas as pd\n",
    "import numpy as np\n",
    "\n",
    "# Sistema\n",
    "import os\n",
    "\n",
    "# Utilidades\n",
    "import random\n",
    "\n",
    "# Visualizacion\n",
    "import matplotlib.pyplot as plt\n",
    "\n",
    "# Preprocesamiento\n",
    "from sklearn.preprocessing import StandardScaler\n",
    "\n",
    "\n",
    "# PyTorch CUDA\n",
    "import torch\n",
    "import torch.nn as nn\n",
    "import torch.nn.functional as F\n",
    "import torch.optim as optim\n",
    "import torch.utils.data as data"
   ]
  },
  {
   "cell_type": "markdown",
   "metadata": {},
   "source": [
    "### Carga de Datasets"
   ]
  },
  {
   "cell_type": "code",
   "execution_count": 2,
   "metadata": {},
   "outputs": [
    {
     "name": "stdout",
     "output_type": "stream",
     "text": [
      "Se cargaron un total de 3 archivos\n",
      "\n",
      "Archivos cargados:\n",
      "\t- Consumos\n",
      "\t- Importaciones\n",
      "\t- Precios\n"
     ]
    }
   ],
   "source": [
    "# Leer los archivos de una carpeta y almacenarlos como dataframes\n",
    "consumos = pd.read_csv('data/consumos_combustibles.csv', sep=';', encoding='utf-8')\n",
    "importaciones = pd.read_csv('data/importaciones_combustibles.csv', sep=';', encoding='utf-8')\n",
    "precios = pd.read_csv('data/precios_combustibles.csv', sep=';', encoding='utf-8')\n",
    "\n",
    "data_frames = {\n",
    "    'Consumos': consumos,\n",
    "    'Importaciones': importaciones,\n",
    "    'Precios': precios\n",
    "}\n",
    "\n",
    "# Mostrar los nombres de los archivos\n",
    "print(f\"Se cargaron un total de 3 archivos\\n\")\n",
    "print('Archivos cargados:')\n",
    "for key in data_frames.keys():\n",
    "    print(f\"\\t- {key}\")"
   ]
  },
  {
   "cell_type": "markdown",
   "metadata": {},
   "source": [
    "## Preprocesamiento"
   ]
  },
  {
   "cell_type": "markdown",
   "metadata": {},
   "source": [
    "### Seleccion de Variables"
   ]
  },
  {
   "cell_type": "markdown",
   "metadata": {},
   "source": [
    "Solo se tomarán en cuenta los datos de importación, consumo y precios de los siguientes tipos de combustibles:\n",
    "- `Gasolina Súper`\n",
    "- `Gasolina Regular`\n",
    "- `Diesel` -> combinacion de Diesel alto azufre y bajo azufre\n",
    "- `Gas Propano`"
   ]
  },
  {
   "cell_type": "code",
   "execution_count": 3,
   "metadata": {},
   "outputs": [],
   "source": [
    "# Seleccionar las columnas de interés para consumos e importaciones\n",
    "cols = ['Fecha','Gasolina regular', 'Gasolina superior', 'Diesel alto azufre', 'Diesel bajo azufre', 'Gas licuado de petróleo']\n",
    "\n",
    "# Filtrar columnas en 'consumo_combustibles'\n",
    "consumos = consumos[cols].copy()\n",
    "\n",
    "# Filtrar columnas en 'importacion_combustibles'\n",
    "importaciones = importaciones[cols].copy()\n",
    "\n",
    "# Filtrar columnas en 'precios_combustibles'\n",
    "precios_cols = ['FECHA','Superior GTQ/GALON', 'Regular GTQ/GALON', 'Diesel GTQ/GALON', 'Glp Cilindro 25Lbs GTQ/LB']\n",
    "precios = precios[precios_cols].copy()"
   ]
  },
  {
   "cell_type": "markdown",
   "metadata": {},
   "source": [
    "### Verificacion y manejo de Nulos"
   ]
  },
  {
   "cell_type": "markdown",
   "metadata": {},
   "source": [
    "En el laboratorio anterior se encontro que Ceras y tipo cambio eran las variables con nulos. Dado que ahora se seleccionaron las variables de interes antes, es probable que ya no existan nulos."
   ]
  },
  {
   "cell_type": "code",
   "execution_count": 4,
   "metadata": {},
   "outputs": [
    {
     "name": "stdout",
     "output_type": "stream",
     "text": [
      "Valores nulos en el dataset de consumo de combustibles: 0\n",
      "Valores nulos en el dataset de importación de combustibles: 0\n",
      "Valores nulos en el dataset de precios de combustibles: 0\n"
     ]
    }
   ],
   "source": [
    "# Comprobar si hay valores nulos\n",
    "print(\"Valores nulos en el dataset de consumo de combustibles:\", consumos.isnull().sum().sum())\n",
    "print(\"Valores nulos en el dataset de importación de combustibles:\", importaciones.isnull().sum().sum())\n",
    "print(\"Valores nulos en el dataset de precios de combustibles:\", precios.isnull().sum().sum())"
   ]
  },
  {
   "cell_type": "markdown",
   "metadata": {},
   "source": [
    "### Manejo de Fechas"
   ]
  },
  {
   "cell_type": "markdown",
   "metadata": {},
   "source": [
    "Anterormente se encontro que los 3 datasets contienen una unica variable culitativa la cual es `Fecha`. Esta se encuentra como string por lo que se debe de transformar a datetime"
   ]
  },
  {
   "cell_type": "code",
   "execution_count": 5,
   "metadata": {},
   "outputs": [],
   "source": [
    "# Diccionario de meses en español a inglés\n",
    "month_mapping = {\n",
    "    'ene': 'Jan',\n",
    "    'feb': 'Feb',\n",
    "    'mar': 'Mar',\n",
    "    'abr': 'Apr',\n",
    "    'may': 'May',\n",
    "    'jun': 'Jun',\n",
    "    'jul': 'Jul',\n",
    "    'ago': 'Aug',\n",
    "    'sep': 'Sep',\n",
    "    'oct': 'Oct',\n",
    "    'nov': 'Nov',\n",
    "    'dic': 'Dec'\n",
    "}\n",
    "\n",
    "# Función para reemplazar los nombres de los meses\n",
    "def replace_months(date_str):\n",
    "    for esp, eng in month_mapping.items():\n",
    "        date_str = date_str.replace(esp, eng)\n",
    "    return date_str\n",
    "\n",
    "# Por fines practicos, se renombra la columna  'FECHA' a 'Fecha' en el dataset de precios de combustibles\n",
    "precios.rename(columns={'FECHA': 'Fecha'}, inplace=True)\n",
    "\n",
    "# Aplicar la función a las columnas de fecha de los dataframes\n",
    "consumos['Fecha'] = consumos['Fecha'].apply(replace_months)\n",
    "importaciones['Fecha'] = importaciones['Fecha'].apply(replace_months)\n",
    "precios['Fecha'] = precios['Fecha'].apply(replace_months)\n",
    "\n",
    "# Convertir las columnas de fecha a datetime\n",
    "consumos['Fecha'] = pd.to_datetime(consumos['Fecha'], format='%b/%Y')\n",
    "importaciones['Fecha'] = pd.to_datetime(importaciones['Fecha'], format='%b/%Y')\n",
    "precios['Fecha'] = pd.to_datetime(precios['Fecha'], format='%d/%b/%Y')\n",
    "\n",
    "# Establecer la columna 'Fecha' como índice en los tres dataframes\n",
    "consumos.set_index('Fecha', inplace=True)\n",
    "importaciones.set_index('Fecha', inplace=True)\n",
    "precios.set_index('Fecha', inplace=True)\n",
    "\n",
    "# Converir los indices a datetime\n",
    "consumos.index = pd.to_datetime(consumos.index)\n",
    "importaciones.index = pd.to_datetime(importaciones.index)\n",
    "precios.index = pd.to_datetime(precios.index)\n",
    "\n",
    "# Ordenar los índices\n",
    "consumos.sort_index(inplace=True)\n",
    "importaciones.sort_index(inplace=True)\n",
    "precios.sort_index(inplace=True)\n",
    "\n",
    "# Inferir la frecuencia de los índices\n",
    "pd.infer_freq(consumos.index)\n",
    "pd.infer_freq(importaciones.index)\n",
    "pd.infer_freq(precios.index);"
   ]
  },
  {
   "cell_type": "markdown",
   "metadata": {},
   "source": [
    "### Manejo de variables Diesel"
   ]
  },
  {
   "cell_type": "markdown",
   "metadata": {},
   "source": [
    "Es necesario combinar ambas variables de diesel en una unica variable donde las fechas de antes del 2018 se tomaran para el diesel alto en azufre, posterior a 2018 se tomaran las de diesel alto en azufre."
   ]
  },
  {
   "cell_type": "code",
   "execution_count": 6,
   "metadata": {},
   "outputs": [],
   "source": [
    "def combine_diesel(df, high_sulfur_col, low_sulfur_col, combined_col):\n",
    "    \"\"\"\n",
    "    Función que combina las columnas de Diesel de alto y bajo azufre en una sola columna.\n",
    "    Toma los valores de Diesel de alto azufre hasta 2017 y los de Diesel de bajo azufre a partir de 2018.\n",
    "\n",
    "    Args:\n",
    "        df (pandas.DataFrame): El dataframe de entrada.\n",
    "        high_sulfur_col (str): El nombre de la columna de Diesel de alto azufre.\n",
    "        low_sulfur_col (str): El nombre de la columna de Diesel de bajo azufre.\n",
    "        combined_col (str): El nombre de la nueva columna combinada.\n",
    "    \n",
    "    Returns:\n",
    "        data (pandas.DataFrame): El dataframe de entrada con la nueva columna combinada.\n",
    "    \"\"\"\n",
    "    # Crear una copia del dataframe\n",
    "    data = df.copy()\n",
    "\n",
    "    # Crear una nueva columna con los valores de Diesel de alto azufre\n",
    "    data.loc[data.index < '2018-01-01', combined_col] = data[high_sulfur_col]\n",
    "    data.loc[data.index >= '2018-01-01', combined_col] = data[low_sulfur_col]\n",
    "\n",
    "    # Eliminar las columnas originales\n",
    "    data.drop(columns=[high_sulfur_col, low_sulfur_col], inplace=True)\n",
    "\n",
    "    return data"
   ]
  },
  {
   "cell_type": "code",
   "execution_count": 7,
   "metadata": {},
   "outputs": [],
   "source": [
    "# Combina las columnas de Diesel de alto y bajo azufre en una sola columna\n",
    "consumos = combine_diesel(consumos, 'Diesel alto azufre', 'Diesel bajo azufre', 'Diesel')\n",
    "importaciones = combine_diesel(importaciones, 'Diesel alto azufre', 'Diesel bajo azufre', 'Diesel')"
   ]
  },
  {
   "cell_type": "markdown",
   "metadata": {},
   "source": [
    "### Renombrar Variables"
   ]
  },
  {
   "cell_type": "markdown",
   "metadata": {},
   "source": [
    "Por fines practicos se renombraran las variables"
   ]
  },
  {
   "cell_type": "code",
   "execution_count": 8,
   "metadata": {},
   "outputs": [],
   "source": [
    "precios.rename(columns={\n",
    "    'Superior GTQ/GALON': 'Gasolina Superior',\n",
    "    'Regular GTQ/GALON': 'Gasolina Regular',\n",
    "    'Diesel GTQ/GALON': 'Diesel',\n",
    "    'Glp Cilindro 25Lbs GTQ/LB': 'Gas Propano'\n",
    "}, inplace=True)\n",
    "\n",
    "# Renombrar columnas en 'consumo_combustibles'\n",
    "consumos.rename(columns={\n",
    "    'Gasolina regular': 'Gasolina Regular',\n",
    "    'Gasolina superior': 'Gasolina Superior',\n",
    "    'Gas licuado de petróleo': 'Gas Propano'\n",
    "}, inplace=True)\n",
    "\n",
    "# Renombrar columnas en 'importacion_combustibles'\n",
    "importaciones.rename(columns={\n",
    "    'Gasolina regular': 'Gasolina Regular',\n",
    "    'Gasolina superior': 'Gasolina Superior',\n",
    "    'Gas licuado de petróleo': 'Gas Propano'\n",
    "}, inplace=True)"
   ]
  },
  {
   "cell_type": "markdown",
   "metadata": {},
   "source": [
    "## Modelos LSTM"
   ]
  },
  {
   "cell_type": "markdown",
   "metadata": {},
   "source": [
    "### Configuracion de PyTorch con CUDA"
   ]
  },
  {
   "cell_type": "code",
   "execution_count": 9,
   "metadata": {},
   "outputs": [
    {
     "name": "stdout",
     "output_type": "stream",
     "text": [
      "CUDA AVAILABLE\n",
      "Using: NVIDIA GeForce RTX 3070 Ti Laptop GPU\n"
     ]
    }
   ],
   "source": [
    "# Configuración de la GPU\n",
    "os.environ['CUDA_PATH'] = r\"C:/Program Files/NVIDIA GPU Computing Toolkit//CUDA//v12.4\"  # Ruta para CUDA 12.4\n",
    "\n",
    "seed = 42\n",
    "random.seed(seed)\n",
    "np.random.seed(seed)\n",
    "torch.manual_seed(seed)\n",
    "\n",
    "if torch.cuda.is_available():\n",
    "    print(f\"CUDA AVAILABLE\")\n",
    "\n",
    "    print(f\"Using: {torch.cuda.get_device_name(torch.cuda.current_device())}\")\n",
    "    # Configurar el generador de números aleatorios de CUDA\n",
    "    torch.cuda.manual_seed(seed)\n",
    "    torch.cuda.manual_seed_all(seed)  # Multi-GPU.\n",
    "\n",
    "    # Configurar el dispositivo de PyTorch para usar la GPU\n",
    "    device = torch.device(\"cuda\")\n",
    "\n",
    "    # Configurar PyTorch a determinista\n",
    "    torch.backends.cudnn.deterministic = True\n",
    "    torch.backends.cudnn.benchmark = False\n",
    "    \n",
    "else:\n",
    "    # Si no hay GPU disponible, usar la CPU\n",
    "    print(\"CUDA NOT AVAILABLE\")\n",
    "    print(\"Using CPU\")\n",
    "    device = torch.device(\"cpu\")"
   ]
  },
  {
   "cell_type": "markdown",
   "metadata": {},
   "source": [
    "### Transformacion de Dataframes a Numpy Array"
   ]
  },
  {
   "cell_type": "code",
   "execution_count": 10,
   "metadata": {},
   "outputs": [
    {
     "name": "stdout",
     "output_type": "stream",
     "text": [
      "(293, 1)\n"
     ]
    },
    {
     "data": {
      "image/png": "[encoded data removed]",
      "text/plain": [
       "<Figure size 640x480 with 1 Axes>"
      ]
     },
     "metadata": {},
     "output_type": "display_data"
    }
   ],
   "source": [
    "df = consumos.copy()\n",
    "timeseries = df[['Gasolina Regular']].values.astype(float)\n",
    "scaler = StandardScaler()\n",
    "timeseries = scaler.fit_transform(timeseries)\n",
    "\n",
    "print(timeseries.shape)\n",
    "plt.plot(timeseries)\n",
    "plt.show()"
   ]
  },
  {
   "cell_type": "markdown",
   "metadata": {},
   "source": [
    "### Split de datos"
   ]
  },
  {
   "cell_type": "code",
   "execution_count": 11,
   "metadata": {},
   "outputs": [],
   "source": [
    "test_size = 36\n",
    "train_size = len(timeseries) - test_size\n",
    "\n",
    "train_data = timeseries[:train_size]\n",
    "test_data = timeseries[train_size:]"
   ]
  },
  {
   "cell_type": "markdown",
   "metadata": {},
   "source": [
    "### Creacion de Tensores"
   ]
  },
  {
   "cell_type": "code",
   "execution_count": 12,
   "metadata": {},
   "outputs": [],
   "source": [
    "def create_dataset(dataset, lookback):\n",
    "    X, y = [], []\n",
    "    for i in range(len(dataset) - lookback):\n",
    "        feature = dataset[i : i + lookback]\n",
    "        target = dataset[i + 1 : i + lookback + 1]\n",
    "        X.append(feature)\n",
    "        y.append(target)\n",
    "\n",
    "    # Convertir listas a numpy arrays y luego a tensores\n",
    "    X = np.array(X)\n",
    "    y = np.array(y)\n",
    "    return torch.tensor(X, dtype=torch.float32), torch.tensor(y, dtype=torch.float32)"
   ]
  },
  {
   "cell_type": "code",
   "execution_count": 13,
   "metadata": {},
   "outputs": [],
   "source": [
    "lookback = 4\n",
    "X_train, y_train = create_dataset(train_data, lookback=lookback)\n",
    "X_test, y_test = create_dataset(test_data, lookback=lookback)\n",
    "X_train, y_train = X_train.to(device), y_train.to(device)\n",
    "X_test, y_test = X_test.to(device), y_test.to(device)"
   ]
  },
  {
   "cell_type": "markdown",
   "metadata": {},
   "source": [
    "### Definicion de Arquitectura"
   ]
  },
  {
   "cell_type": "code",
   "execution_count": 14,
   "metadata": {},
   "outputs": [],
   "source": [
    "class LSTM(nn.Module):\n",
    "    def __init__(self, input_size, hidden_size, output_size, num_layers):\n",
    "        super(LSTM, self).__init__()\n",
    "        \n",
    "        # Definir la capa LSTM\n",
    "        self.lstm = nn.LSTM(input_size = input_size, \n",
    "                            hidden_size = hidden_size, \n",
    "                            num_layers = num_layers, \n",
    "                            batch_first = True)\n",
    "        \n",
    "        # Definir la capa de salida\n",
    "        self.linear = nn.Linear(hidden_size, \n",
    "                                output_size)\n",
    "        \n",
    "        # Agregar una capa de activación ReLU\n",
    "        self.relu = nn.ReLU() \n",
    "        \n",
    "        self.hidden_size = hidden_size  # Numero de hidden states\n",
    "        self.num_layers = num_layers    # Numero de capas\n",
    "        \n",
    "\n",
    "    def forward(self, x):\n",
    "        # Inicializar los hidden states\n",
    "        h0 = torch.zeros(self.lstm.num_layers, x.size(0), self.lstm.hidden_size).to(x.device)\n",
    "        c0 = torch.zeros(self.lstm.num_layers, x.size(0), self.lstm.hidden_size).to(x.device)\n",
    "\n",
    "        # Forward pass a la capa LSTM\n",
    "        out, _ = self.lstm(x, (h0, c0))\n",
    "\n",
    "        # Aplicar la capa de activación\n",
    "        out = self.relu(out)\n",
    "        \n",
    "        # Solo se necesita el último hidden state\n",
    "        out = self.linear(out)\n",
    "        \n",
    "        return out"
   ]
  },
  {
   "cell_type": "markdown",
   "metadata": {},
   "source": [
    "### Hiperparametros"
   ]
  },
  {
   "cell_type": "code",
   "execution_count": 15,
   "metadata": {},
   "outputs": [],
   "source": [
    "# Definir hiperparametros del modelo\n",
    "n_epochs = 100            # Numero de epochs\n",
    "input_size = 1          # Tamaño de la secuencia de entrada\n",
    "hidden_size = 100       # Tamaño del hidden state\n",
    "num_layers = 2          # Numero de capas LSTM\n",
    "output_size = 1         # Tamaño de la secuencia de salida\n",
    "\n",
    "\n",
    "# Crear el modelo\n",
    "model = LSTM(input_size, hidden_size, output_size, num_layers).to(device)\n",
    "\n",
    "# Definir la función de pérdida y el optimizador\n",
    "optimizer = optim.Adam(model.parameters(), lr=0.001)\n",
    "loss_fn = nn.MSELoss().to(device)\n",
    "\n",
    "# Utilizar un DataLoader para cargar los datos\n",
    "loader = data.DataLoader(data.TensorDataset(X_train, y_train), batch_size=16, shuffle=False)"
   ]
  },
  {
   "cell_type": "markdown",
   "metadata": {},
   "source": [
    "### Entrenamiento"
   ]
  },
  {
   "cell_type": "code",
   "execution_count": 16,
   "metadata": {},
   "outputs": [
    {
     "name": "stdout",
     "output_type": "stream",
     "text": [
      "Epoch 0: train RMSE 0.7245, test RMSE 1.9939\n",
      "Epoch 99: train RMSE 0.1496, test RMSE 0.3449\n"
     ]
    }
   ],
   "source": [
    "# Perdidas\n",
    "loss_train = []\n",
    "loss_test = []\n",
    "\n",
    "# Iteramos sobre cada epoca\n",
    "for epoch in range(n_epochs):\n",
    "    # Colocamos el modelo en modo de entrenamiento\n",
    "    model.train()\n",
    "    \n",
    "    # Cargamos los batches\n",
    "    for X_batch, y_batch in loader:\n",
    "        # Movemos los datos al dispositivo\n",
    "        X_batch, y_batch = X_batch.to(device), y_batch.to(device)\n",
    "\n",
    "        # Obtenemos una primera prediccion\n",
    "        y_pred = model(X_batch)\n",
    "        # Calculamos la perdida\n",
    "        loss = loss_fn(y_pred, y_batch)\n",
    "        # Reseteamos la gradiente a cero\n",
    "        #   sino la gradiente de previas iteraciones se acumulará con las nuevas\n",
    "        optimizer.zero_grad()\n",
    "        # Backprop\n",
    "        loss.backward()\n",
    "        # Aplicar las gradientes para actualizar los parametros del modelo\n",
    "        optimizer.step()\n",
    "        \n",
    "    # Validación cada 100 epocas\n",
    "    if epoch % 100 == 0 or epoch == n_epochs-1:\n",
    "\n",
    "        # Colocamos el modelo en modo de evaluación\n",
    "        model.eval()\n",
    "        \n",
    "        # Deshabilitamos el calculo de gradientes\n",
    "        with torch.no_grad():\n",
    "            # Prediccion\n",
    "            y_pred = model(X_train)\n",
    "            # Calculo del RMSE - Root Mean Square Error\n",
    "            train_rmse = np.sqrt(loss_fn(y_pred, y_train).cpu().numpy())\n",
    "            # Prediccion sobre validation\n",
    "            y_pred = model(X_test)\n",
    "            # Calculo del RMSE para validation\n",
    "            test_rmse = np.sqrt(loss_fn(y_pred, y_test).cpu().numpy())\n",
    "            loss_train.append(train_rmse)\n",
    "            loss_test.append(test_rmse)\n",
    "            \n",
    "        print(\"Epoch %d: train RMSE %.4f, test RMSE %.4f\" % (epoch, train_rmse, test_rmse))\n",
    "\n",
    "    if torch.cuda.is_available():\n",
    "        torch.cuda.synchronize()"
   ]
  },
  {
   "cell_type": "markdown",
   "metadata": {},
   "source": [
    "### Visualizacion"
   ]
  },
  {
   "cell_type": "code",
   "execution_count": 17,
   "metadata": {},
   "outputs": [
    {
     "data": {
      "image/png": "[encoded data removed]",
      "text/plain": [
       "<Figure size 640x480 with 1 Axes>"
      ]
     },
     "metadata": {},
     "output_type": "display_data"
    }
   ],
   "source": [
    "# Visualización del rendimiento\n",
    "epoch = np.arange(len(loss_train))\n",
    "plt.figure()\n",
    "plt.plot(epoch, loss_train, 'r', label='Training',)\n",
    "plt.plot(epoch, loss_test, 'b', label='Test')\n",
    "plt.legend()\n",
    "plt.xlabel('Epoch'), plt.ylabel('RMSE')\n",
    "plt.show()"
   ]
  },
  {
   "cell_type": "code",
   "execution_count": 18,
   "metadata": {},
   "outputs": [
    {
     "data": {
      "image/png": "[encoded data removed]",
      "text/plain": [
       "<Figure size 640x480 with 1 Axes>"
      ]
     },
     "metadata": {},
     "output_type": "display_data"
    },
    {
     "name": "stdout",
     "output_type": "stream",
     "text": [
      "RMSE Train: 0.14956378936767578\n",
      "RMSE Test: 0.34489327669143677\n"
     ]
    }
   ],
   "source": [
    "# Graficamos\n",
    "with torch.no_grad():\n",
    "    # Movemos las predicciones de train para graficar\n",
    "    train_plot = np.ones_like(timeseries) * np.nan\n",
    "    # Prediccion de train\n",
    "    y_pred = model(X_train)\n",
    "    # Extraemos los datos solo del ultimo paso\n",
    "    y_pred = y_pred[:, -1, :]\n",
    "    train_plot[lookback : train_size] = model(X_train)[:, -1, :].cpu().numpy()\n",
    "    # Movemos las predicciones de test\n",
    "    test_plot = np.ones_like(timeseries) * np.nan\n",
    "    test_plot[train_size + lookback : len(timeseries)] = model(X_test)[:, -1, :].cpu().numpy()\n",
    "\n",
    "    \n",
    "plt.figure()\n",
    "plt.plot(timeseries, label=\"Serie Original\")\n",
    "plt.plot(train_plot, c='r', label=\"Serie Train\")\n",
    "plt.plot(test_plot, c='g', label=\"Serie Test\")\n",
    "plt.xlabel('Paso en el Tiempo'), plt.ylabel('Pasajeros')\n",
    "plt.legend()\n",
    "plt.show()\n",
    "\n",
    "print(f\"RMSE Train: {loss_train[-1]}\")\n",
    "print(f\"RMSE Test: {loss_test[-1]}\")"
   ]
  }
 ],
 "metadata": {
  "kernelspec": {
   "display_name": "DataScience_DL",
   "language": "python",
   "name": "python3"
  },
  "language_info": {
   "codemirror_mode": {
    "name": "ipython",
    "version": 3
   },
   "file_extension": ".py",
   "mimetype": "text/x-python",
   "name": "python",
   "nbconvert_exporter": "python",
   "pygments_lexer": "ipython3",
   "version": "3.12.3"
  }
 },
 "nbformat": 4,
 "nbformat_minor": 2
}
